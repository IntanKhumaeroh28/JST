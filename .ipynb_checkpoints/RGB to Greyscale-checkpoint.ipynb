{
 "cells": [
  {
   "cell_type": "code",
   "execution_count": 1,
   "id": "b8ba0174",
   "metadata": {},
   "outputs": [],
   "source": [
    "import cv2"
   ]
  },
  {
   "cell_type": "code",
   "execution_count": 2,
   "id": "32e6ceb9",
   "metadata": {},
   "outputs": [],
   "source": [
    "#read driektori image\n",
    "image = cv2.imread('JST_INFORMATIKA6/images/senyum.jpg')\n",
    "cv2.imshow('Original', image)"
   ]
  },
  {
   "cell_type": "code",
   "execution_count": null,
   "id": "d4cc023e",
   "metadata": {},
   "outputs": [],
   "source": []
  }
 ],
 "metadata": {
  "kernelspec": {
   "display_name": "Python 3 (ipykernel)",
   "language": "python",
   "name": "python3"
  },
  "language_info": {
   "codemirror_mode": {
    "name": "ipython",
    "version": 3
   },
   "file_extension": ".py",
   "mimetype": "text/x-python",
   "name": "python",
   "nbconvert_exporter": "python",
   "pygments_lexer": "ipython3",
   "version": "3.9.12"
  }
 },
 "nbformat": 4,
 "nbformat_minor": 5
}
