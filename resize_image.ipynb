{
 "cells": [
  {
   "cell_type": "code",
   "execution_count": 1,
   "id": "39d71223",
   "metadata": {},
   "outputs": [],
   "source": [
    "from PIL import Image"
   ]
  },
  {
   "cell_type": "code",
   "execution_count": 2,
   "id": "f1f7b2a6",
   "metadata": {},
   "outputs": [],
   "source": [
    "image = Image.open('C:\\\\Users\\\\Intan Khumaeroh\\\\Documents\\\\notebook\\\\JST_INFORMATIKA6\\\\images\\\\senyum.jpg')"
   ]
  },
  {
   "cell_type": "code",
   "execution_count": 3,
   "id": "bcb1620b",
   "metadata": {},
   "outputs": [],
   "source": [
    "new_width = 300\n",
    "new_height = 250"
   ]
  },
  {
   "cell_type": "code",
   "execution_count": 4,
   "id": "160785d5",
   "metadata": {},
   "outputs": [],
   "source": [
    "resized_image = image.resize((new_width, new_height))"
   ]
  },
  {
   "cell_type": "code",
   "execution_count": 5,
   "id": "c9b02733",
   "metadata": {},
   "outputs": [],
   "source": [
    "resized_image.save('C:\\\\Users\\\\Intan Khumaeroh\\\\Documents\\\\notebook\\\\JST_INFORMATIKA6\\\\save\\\\resize.jpg')"
   ]
  },
  {
   "cell_type": "code",
   "execution_count": null,
   "id": "1c760cb0",
   "metadata": {},
   "outputs": [],
   "source": []
  }
 ],
 "metadata": {
  "kernelspec": {
   "display_name": "Python 3 (ipykernel)",
   "language": "python",
   "name": "python3"
  },
  "language_info": {
   "codemirror_mode": {
    "name": "ipython",
    "version": 3
   },
   "file_extension": ".py",
   "mimetype": "text/x-python",
   "name": "python",
   "nbconvert_exporter": "python",
   "pygments_lexer": "ipython3",
   "version": "3.9.12"
  }
 },
 "nbformat": 4,
 "nbformat_minor": 5
}
